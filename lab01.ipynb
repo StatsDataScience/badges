{
 "cells": [
  {
   "cell_type": "code",
   "execution_count": 1,
   "id": "cba971bd",
   "metadata": {
    "deletable": false,
    "editable": false
   },
   "outputs": [],
   "source": [
    "# Initialize Otter\n",
    "import otter\n",
    "grader = otter.Notebook(\"lab01.ipynb\")"
   ]
  },
  {
   "cell_type": "markdown",
   "id": "6008377c",
   "metadata": {
    "deletable": false,
    "jp-MarkdownHeadingCollapsed": true,
    "tags": []
   },
   "source": [
    "# Lab 1: Expressions\n",
    "\n",
    "Welcome to Data 8: *Foundations of Data Science*!  You can't learn technical subjects without hands-on practice, so labs are an important part of the course.\n",
    "\n",
    "Collaborating on labs is more than okay -- it's encouraged! You should rarely remain stuck for more than a few minutes on questions in labs, so ask an instructor or classmate for help. (Explaining things is beneficial, too -- the best way to solidify your knowledge of a subject is to explain it.) Please don't just share answers, though.\n",
    "\n",
    "\n",
    "#### Today's lab\n",
    "\n",
    "In today's lab, you'll learn how to:\n",
    "\n",
    "1. navigate Jupyter notebooks (like this one);\n",
    "2. write and evaluate some basic *expressions* in Python, the computer language of the course;\n",
    "3. call *functions* to use code other people have written; and\n",
    "4. break down Python code into smaller parts to understand it.\n",
    "\n",
    "This lab covers parts of [Chapter 3](http://www.inferentialthinking.com/chapters/03/programming-in-python.html) of the online textbook. You should read the examples in the book, but not right now. Instead, let's get started!"
   ]
  },
  {
   "cell_type": "markdown",
   "id": "b3029644",
   "metadata": {},
   "source": [
    "# 1. Jupyter Notebooks\n",
    "This webpage is called a Jupyter Notebook. A notebook is a place to write programs and view their results, and also to write text.\n",
    "\n",
    "## 1.1. Text cells\n",
    "In a notebook, each rectangle containing text or code is called a *cell*.\n",
    "\n",
    "Text cells (like this one) can be edited by double-clicking on them. They're written in a simple format called [Markdown](http://daringfireball.net/projects/markdown/syntax) to add formatting and section headings.  You don't need to learn Markdown, but you might want to.\n",
    "\n",
    "After you edit a text cell, click the \"run cell\" button at the top that looks like ▶| or hold down `shift` + `return` to confirm any changes. (Try not to delete the instructions of the lab.)"
   ]
  },
  {
   "cell_type": "markdown",
   "id": "2bcd8e1b",
   "metadata": {
    "deletable": false
   },
   "source": [
    "**Question 1.1.1.** This paragraph is in its own text cell.  Try editing it so that this sentence is the last sentence in the paragraph, and then click the \"run cell\" ▶| button or hold down `shift` + `return`.  This sentence, for example, should be deleted.  So should this one."
   ]
  },
  {
   "cell_type": "markdown",
   "id": "f00ebe3e",
   "metadata": {},
   "source": [
    "## 1.2. Code cells\n",
    "Other cells contain code in the Python 3 language. Running a code cell will execute all of the code it contains.\n",
    "\n",
    "To run the code in a code cell, first click on that cell to activate it.  It'll be highlighted with a little green or blue rectangle.  Next, either press ▶| or hold down `shift` + `return` for Mac and for Windowns is:`shift` + `enter` .\n",
    "\n",
    "Try running this cell:"
   ]
  },
  {
   "cell_type": "code",
   "execution_count": 2,
   "id": "d039600d",
   "metadata": {},
   "outputs": [
    {
     "name": "stdout",
     "output_type": "stream",
     "text": [
      "Hello, World!\n"
     ]
    }
   ],
   "source": [
    "print(\"Hello, World!\")"
   ]
  },
  {
   "cell_type": "code",
   "execution_count": 3,
   "id": "7d5cd6a9",
   "metadata": {},
   "outputs": [
    {
     "name": "stdout",
     "output_type": "stream",
     "text": [
      "Hello, My name is Edward Pineda-Castro\n"
     ]
    }
   ],
   "source": [
    "print(\"Hello, My name is Edward Pineda-Castro\")"
   ]
  },
  {
   "cell_type": "markdown",
   "id": "7e3c32ac",
   "metadata": {},
   "source": [
    "And this one:"
   ]
  },
  {
   "cell_type": "code",
   "execution_count": 4,
   "id": "0e018eae",
   "metadata": {},
   "outputs": [
    {
     "name": "stdout",
     "output_type": "stream",
     "text": [
      "👋, 🌏!\n"
     ]
    }
   ],
   "source": [
    "print(\"\\N{WAVING HAND SIGN}, \\N{EARTH GLOBE ASIA-AUSTRALIA}!\")"
   ]
  },
  {
   "cell_type": "markdown",
   "id": "98c78ac5",
   "metadata": {},
   "source": [
    "The fundamental building block of Python code is an expression. Cells can contain multiple lines with multiple expressions. When you run a cell, the lines of code are executed in the order in which they appear. Every `print` expression prints a line. Run the next cell and notice the order of the output."
   ]
  },
  {
   "cell_type": "code",
   "execution_count": 6,
   "id": "0455fc97",
   "metadata": {
    "deletable": false
   },
   "outputs": [
    {
     "name": "stdout",
     "output_type": "stream",
     "text": [
      "First this line,\n",
      "then the whole 🌏,\n",
      "and then this one.\n"
     ]
    }
   ],
   "source": [
    "print(\"First this line,\")\n",
    "print(\"then the whole \\N{EARTH GLOBE ASIA-AUSTRALIA},\")\n",
    "print(\"and then this one.\")"
   ]
  },
  {
   "cell_type": "markdown",
   "id": "77916d93",
   "metadata": {},
   "source": [
    "**Question 1.2.1.** Change the cell above so that it prints out:\n",
    "\n",
    "    First this line,\n",
    "    then the whole 🌏,\n",
    "    and then this one.\n",
    "\n",
    "*Hint:* If you're stuck on the Earth symbol for more than a few minutes, try talking to a neighbor or a staff member. That's a good idea for any lab problem."
   ]
  },
  {
   "cell_type": "markdown",
   "id": "9a657b9f",
   "metadata": {},
   "source": [
    "## 1.3. Writing Jupyter notebooks\n",
    "You can use Jupyter notebooks for your own projects or documents.  When you make your own notebook, you'll need to create your own cells for text and code.\n",
    "\n",
    "To add a cell, click the + button in the menu bar.  It'll start out as a text cell.  You can change it to a code cell by clicking inside it so it's highlighted, clicking the drop-down box next to the restart (⟳) button in the menu bar, and choosing \"Code\".\n",
    "\n",
    "**Question 1.3.1.** Add a code cell below this one.  Write code in it that prints out:\n",
    "   \n",
    "    A whole new cell! ♪🌏♪\n",
    "\n",
    "(That musical note symbol is like the Earth symbol.  Its long-form name is `\\N{EIGHTH NOTE}`.)\n",
    "\n",
    "Run your cell to verify that it works."
   ]
  },
  {
   "cell_type": "code",
   "execution_count": 9,
   "id": "ae2ac167",
   "metadata": {},
   "outputs": [
    {
     "name": "stdout",
     "output_type": "stream",
     "text": [
      "A whole new cell! ♪🌏♪\n"
     ]
    }
   ],
   "source": [
    "print(\"A whole new cell! \\N{EIGHTH NOTE}\\N{EARTH GLOBE ASIA-AUSTRALIA}\\N{EIGHTH NOTE}\")"
   ]
  },
  {
   "cell_type": "markdown",
   "id": "e8044212",
   "metadata": {},
   "source": [
    "## 1.4. Errors\n",
    "Python is a language, and like natural human languages, it has rules.  It differs from natural language in two important ways:\n",
    "1. The rules are *simple*.  You can learn most of them in a few weeks and gain reasonable proficiency with the language in a semester.\n",
    "2. The rules are *rigid*.  If you're proficient in a natural language, you can understand a non-proficient speaker, glossing over small mistakes.  A computer running Python code is not smart enough to do that.\n",
    "\n",
    "Whenever you write code, you'll make mistakes.  When you run a code cell that has errors, Python will sometimes produce error messages to tell you what you did wrong.\n",
    "\n",
    "Errors are okay; even experienced programmers make many errors.  When you make an error, you just have to find the source of the problem, fix it, and move on.\n",
    "\n",
    "We’ve developed a custom error feedback software to help you better understand error messages. Run the next cell to import the package; nothing should output."
   ]
  },
  {
   "cell_type": "code",
   "execution_count": 10,
   "id": "c31f7370",
   "metadata": {},
   "outputs": [],
   "source": [
    "import d8error"
   ]
  },
  {
   "cell_type": "markdown",
   "id": "72b885b2",
   "metadata": {},
   "source": [
    "We have made an error in the next cell.  Run it and see what happens."
   ]
  },
  {
   "cell_type": "code",
   "execution_count": 12,
   "id": "a3e7654d",
   "metadata": {
    "deletable": false,
    "tags": [
     "raises-exception"
    ]
   },
   "outputs": [
    {
     "name": "stdout",
     "output_type": "stream",
     "text": [
      "This line is missing something.\n"
     ]
    }
   ],
   "source": [
    "print(\"This line is missing something.\")"
   ]
  },
  {
   "cell_type": "markdown",
   "id": "72ec9f3d",
   "metadata": {},
   "source": [
    "**Note:** In the toolbar, there is the option to click `Cell > Run All`, which will run all the code cells in this notebook in order. However, the notebook stops running code cells if it hits an error, like the one in the cell above."
   ]
  },
  {
   "cell_type": "markdown",
   "id": "4b7a8448",
   "metadata": {},
   "source": [
    "You should see something like this (minus our annotations):\n",
    "\n",
    "<img src=\"error.jpg\"/>\n",
    "\n",
    "The last line of the error output attempts to tell you what went wrong.  The *syntax* of a language is its structure, and this `SyntaxError` tells you that you have created an illegal structure.  \"`EOF`\" means \"end of file,\" so the message is saying Python expected you to write something more (in this case, a right parenthesis) before finishing the cell.\n",
    "\n",
    "There's a lot of terminology in programming languages, but you don't need to know it all in order to program effectively. If you see a cryptic message like this, you can often get by without deciphering it.  (Of course, if you're frustrated, ask a neighbor or a staff member for help.) However, our D8 error package helps explain any python errors and exceptions and their common causes, as well as resources to reference for additional help. In the example above, we see that one source of a `SyntaxError` has to do with parentheses. \n",
    "\n",
    "\n",
    "Try to fix the code above so that you can run the cell and see the intended message instead of an error."
   ]
  },
  {
   "cell_type": "markdown",
   "id": "e11db7f5",
   "metadata": {},
   "source": [
    "## 1.5. The Kernel\n",
    "The kernel is a program that executes the code inside your notebook and outputs the results. In the top right of your window, you can see a circle that indicates the status of your kernel. If the circle is empty (⚪), the kernel is idle and ready to execute code. If the circle is filled in (⚫), the kernel is busy running some code. \n",
    "\n",
    "Next to every code cell, you'll see some text that says `[ ]`. Before you run the cell, you'll see `[ ]`. When the cell is running, you'll see `[*]`. If you see an asterisk (\\*) next to a cell that doesn't go away, it's likely that the code inside the cell is taking too long to run, and it might be a good time to interrupt the kernel (discussed below). When a cell is finished running, you'll see a number inside the brackets, like so: `[1]`. The number corresponds to the order in which you run the cells; so, the first cell you run will show a 1 when it's finished running, the second will show a 2, and so on. \n",
    "\n",
    "You may run into problems where your kernel is stuck for an excessive amount of time, your notebook is very slow and unresponsive, or your kernel loses its connection. If this happens, try the following steps:\n",
    "1. At the top of your screen, click **Kernel**, then **Interrupt**.\n",
    "2. If that doesn't help, click **Kernel**, then **Restart**. If you do this, you will have to run your code cells from the start of your notebook up until where you paused your work.\n",
    "3. If that doesn't help, restart your server. First, save your work by clicking **File** at the top left of your screen, then **Save and Checkpoint**. Next, click **Control Panel** at the top right. Choose **Stop My Server** to shut it down, then **Start My Server** to start it back up. Then, navigate back to the notebook you were working on. You'll still have to run your code cells again."
   ]
  },
  {
   "cell_type": "markdown",
   "id": "a6d7cd9b",
   "metadata": {},
   "source": [
    "## 1.6. Submitting Your Work\n",
    "All assignments in the course will be distributed as notebooks like this one, and you will submit your work from the notebook. We will use a system called Otter Grader to check your work and help you submit. If you haven’t already, make sure you have run the cell at the top of this notebook to initialize OtterGrader."
   ]
  },
  {
   "cell_type": "markdown",
   "id": "d2293ee9",
   "metadata": {},
   "source": [
    "# 2. Numbers\n",
    "\n",
    "Quantitative information arises everywhere in data science. In addition to representing commands to print out lines, expressions can represent numbers and methods of combining numbers. The expression `3.2500` evaluates to the number 3.25. (Run the cell and see.)"
   ]
  },
  {
   "cell_type": "code",
   "execution_count": 13,
   "id": "9505ba4e",
   "metadata": {},
   "outputs": [
    {
     "data": {
      "text/plain": [
       "3.25"
      ]
     },
     "execution_count": 13,
     "metadata": {},
     "output_type": "execute_result"
    }
   ],
   "source": [
    "3.2500"
   ]
  },
  {
   "cell_type": "markdown",
   "id": "5a23c04a",
   "metadata": {},
   "source": [
    "Notice that we didn't have to `print`. When you run a notebook cell, if the last line has a value, then Jupyter helpfully prints out that value for you. However, it won't print out prior lines automatically."
   ]
  },
  {
   "cell_type": "code",
   "execution_count": 16,
   "id": "d9800fe2",
   "metadata": {
    "tags": []
   },
   "outputs": [
    {
     "name": "stdout",
     "output_type": "stream",
     "text": [
      "2\n"
     ]
    },
    {
     "data": {
      "text/plain": [
       "4"
      ]
     },
     "execution_count": 16,
     "metadata": {},
     "output_type": "execute_result"
    }
   ],
   "source": [
    "print(2)\n",
    "3\n",
    "4"
   ]
  },
  {
   "cell_type": "markdown",
   "id": "c3d8af80",
   "metadata": {},
   "source": [
    "Above, you should see that 4 is the value of the last expression, 2 is printed, but 3 is lost forever because it was neither printed nor last.\n",
    "\n",
    "You don't want to print everything all the time anyway.  But if you feel sorry for 3, change the cell above to print it."
   ]
  },
  {
   "cell_type": "markdown",
   "id": "d7238bc4",
   "metadata": {},
   "source": [
    "## 2.1. Arithmetic\n",
    "The line in the next cell subtracts.  Its value is what you'd expect.  Run it."
   ]
  },
  {
   "cell_type": "code",
   "execution_count": 17,
   "id": "c98a2213",
   "metadata": {},
   "outputs": [
    {
     "data": {
      "text/plain": [
       "1.75"
      ]
     },
     "execution_count": 17,
     "metadata": {},
     "output_type": "execute_result"
    }
   ],
   "source": [
    "3.25 - 1.5"
   ]
  },
  {
   "cell_type": "markdown",
   "id": "bcfcf2fb",
   "metadata": {},
   "source": [
    "Many basic arithmetic operations are built into Python.  The textbook section on [Expressions](http://www.inferentialthinking.com/chapters/03/1/Expressions.html) describes all the arithmetic operators used in the course.  The common operator that differs from typical math notation is `**`, which raises one number to the power of the other. So, `2**3` stands for $2^3$ and evaluates to 8. \n",
    "\n",
    "The order of operations is the same as what you learned in elementary school, and Python also has parentheses.  For example, compare the outputs of the cells below. The second cell uses parentheses for a happy new year!"
   ]
  },
  {
   "cell_type": "code",
   "execution_count": 18,
   "id": "d9036204",
   "metadata": {},
   "outputs": [
    {
     "data": {
      "text/plain": [
       "-720.0"
      ]
     },
     "execution_count": 18,
     "metadata": {},
     "output_type": "execute_result"
    }
   ],
   "source": [
    "6+6*5-6*3**2*2**3/4*7"
   ]
  },
  {
   "cell_type": "code",
   "execution_count": 19,
   "id": "00cc846a",
   "metadata": {},
   "outputs": [
    {
     "data": {
      "text/plain": [
       "2022.0"
      ]
     },
     "execution_count": 19,
     "metadata": {},
     "output_type": "execute_result"
    }
   ],
   "source": [
    "6+(6*5-(6*3))**2*((2**3)/4*7)"
   ]
  },
  {
   "cell_type": "markdown",
   "id": "ef064753",
   "metadata": {},
   "source": [
    "In standard math notation, the first expression is\n",
    "\n",
    "$$6 + 6 \\times 5 - 6 \\times 3^2 \\times \\frac{2^3}{4} \\times 7,$$\n",
    "\n",
    "while the second expression is\n",
    "\n",
    "$$6 + (6 \\times 5 - (6 \\times 3))^2 \\times \\left(\\frac{\\left(2^3\\right)}{4} \\times 7\\right).$$\n",
    "\n",
    "**Question 2.1.1.** Write a Python expression in this next cell that's equal to $\\displaystyle 5 \\times \\left(3 \\frac{10}{11}\\right) - 50 \\frac{1}{3} + 2^{.5 \\times 22} - \\frac{7}{33} + 5$.  That's five times three and ten elevenths, minus fifty and a third, plus two to the power of half twenty-two, minus seven thirty-thirds plus five.  By \"$\\displaystyle 3 \\frac{10}{11}$\" we mean $\\displaystyle 3+\\frac{10}{11}$, not $\\displaystyle 3 \\times \\frac{10}{11}$.\n",
    "\n",
    "Replace the ellipses (`...`) with your expression.  Try to use parentheses only when necessary.\n",
    "\n",
    "*Hint:* The correct output should start with a familiar number."
   ]
  },
  {
   "cell_type": "code",
   "execution_count": 22,
   "id": "1680e598",
   "metadata": {
    "deletable": false,
    "tags": []
   },
   "outputs": [
    {
     "data": {
      "text/plain": [
       "2022.0"
      ]
     },
     "execution_count": 22,
     "metadata": {},
     "output_type": "execute_result"
    }
   ],
   "source": [
    "5*(3+(10/11))-(50+(1/3))+2**(.5*22)-(7/33)+5"
   ]
  },
  {
   "cell_type": "markdown",
   "id": "59320bf2",
   "metadata": {},
   "source": [
    "# 3. Names\n",
    "In natural language, we have terminology that lets us quickly reference very complicated concepts.  We don't say, \"That's a large mammal with brown fur and sharp teeth!\"  Instead, we just say, \"Bear!\"\n",
    "\n",
    "In Python, we do this with *assignment statements*. An assignment statement has a name on the left side of an `=` sign and an expression to be evaluated on the right."
   ]
  },
  {
   "cell_type": "code",
   "execution_count": 25,
   "id": "ab92a179",
   "metadata": {},
   "outputs": [
    {
     "name": "stdout",
     "output_type": "stream",
     "text": [
      "This will print the number 10: 10\n"
     ]
    }
   ],
   "source": [
    "ten = 3 * 2 + 4"
   ]
  },
  {
   "cell_type": "markdown",
   "id": "ec8c91c6",
   "metadata": {},
   "source": [
    "When you run that cell, Python first computes the value of the expression on the right-hand side, `3 * 2 + 4`, which is the number 10.  Then it assigns that value to the name `ten`.  At that point, the code in the cell is done running.\n",
    "\n",
    "After you run that cell, the value 10 is bound to the name `ten`:"
   ]
  },
  {
   "cell_type": "code",
   "execution_count": 26,
   "id": "3793e4fa",
   "metadata": {},
   "outputs": [
    {
     "data": {
      "text/plain": [
       "10"
      ]
     },
     "execution_count": 26,
     "metadata": {},
     "output_type": "execute_result"
    }
   ],
   "source": [
    "ten"
   ]
  },
  {
   "cell_type": "markdown",
   "id": "f5b8f380",
   "metadata": {},
   "source": [
    "The statement `ten = 3 * 2 + 4` is not asserting that `ten` is already equal to `3 * 2 + 4`, as we might expect by analogy with math notation.  Rather, that line of code changes what `ten` means; it now refers to the value 10, whereas before it meant nothing at all.\n",
    "\n",
    "If the designers of Python had been ruthlessly pedantic, they might have made us write\n",
    "\n",
    "    define the name ten to hereafter have the value of 3 * 2 + 4 \n",
    "\n",
    "instead.  You will probably appreciate the brevity of \"`=`\"!  But keep in mind that this is the real meaning.\n",
    "\n",
    "**Question 3.1.** Run the following cell which uses a variable name `eleven` that hasn't been assigned to anything. You'll see an error!"
   ]
  },
  {
   "cell_type": "code",
   "execution_count": 30,
   "id": "7e46bcc5",
   "metadata": {
    "tags": [
     "raises-exception"
    ]
   },
   "outputs": [
    {
     "data": {
      "text/markdown": [
       "## **Uh-o it seems we have an error!**"
      ],
      "text/plain": [
       "<IPython.core.display.Markdown object>"
      ]
     },
     "metadata": {},
     "output_type": "display_data"
    },
    {
     "data": {
      "text/markdown": [
       "It seems we have a NameError. NameErrors are usually because of:"
      ],
      "text/plain": [
       "<IPython.core.display.Markdown object>"
      ]
     },
     "metadata": {},
     "output_type": "display_data"
    },
    {
     "data": {
      "text/markdown": [
       "1. Misspelling a variable, function, or method name "
      ],
      "text/plain": [
       "<IPython.core.display.Markdown object>"
      ]
     },
     "metadata": {},
     "output_type": "display_data"
    },
    {
     "data": {
      "text/markdown": [
       "2. Not importing required libraries, i.e not running the cell with `import numpy as np`"
      ],
      "text/plain": [
       "<IPython.core.display.Markdown object>"
      ]
     },
     "metadata": {},
     "output_type": "display_data"
    },
    {
     "data": {
      "text/markdown": [
       "3. Kernel died. You might need to re-run cells to redefine variables"
      ],
      "text/plain": [
       "<IPython.core.display.Markdown object>"
      ]
     },
     "metadata": {},
     "output_type": "display_data"
    },
    {
     "data": {
      "text/markdown": [
       "The Data 8 Reference might be helpful to look over for examples and usage: [Data 8 Reference](http://data8.org/sp22/python-reference.html)"
      ],
      "text/plain": [
       "<IPython.core.display.Markdown object>"
      ]
     },
     "metadata": {},
     "output_type": "display_data"
    },
    {
     "data": {
      "text/markdown": [
       "If you are having more trouble please feel free to consult a staff member                         \n",
       " or see the error message below "
      ],
      "text/plain": [
       "<IPython.core.display.Markdown object>"
      ]
     },
     "metadata": {},
     "output_type": "display_data"
    },
    {
     "data": {
      "application/vnd.jupyter.widget-view+json": {
       "model_id": "1a05a6401e5e4bf5bd8da011619b7d2f",
       "version_major": 2,
       "version_minor": 0
      },
      "text/plain": [
       "Accordion(children=(VBox(children=(VBox(children=(Label(value='Was the message you saw useful?'), Dropdown(opt…"
      ]
     },
     "metadata": {},
     "output_type": "display_data"
    },
    {
     "ename": "NameError",
     "evalue": "name 'eleven' is not defined",
     "output_type": "error",
     "traceback": [
      "\u001b[0;31m---------------------------------------------------------------------------\u001b[0m",
      "\u001b[0;31mNameError\u001b[0m                                 Traceback (most recent call last)",
      "Cell \u001b[0;32mIn[30], line 1\u001b[0m\n\u001b[0;32m----> 1\u001b[0m \u001b[43meleven\u001b[49m \u001b[38;5;241m+\u001b[39m \u001b[38;5;241m8\u001b[39m\n",
      "\u001b[0;31mNameError\u001b[0m: name 'eleven' is not defined"
     ]
    }
   ],
   "source": [
    "eleven + 8"
   ]
  },
  {
   "cell_type": "markdown",
   "id": "d0d92d3f",
   "metadata": {},
   "source": [
    "A common pattern in Jupyter notebooks is to assign a value to a name and then immediately evaluate the name in the last line in the cell so that the value is displayed as output. "
   ]
  },
  {
   "cell_type": "code",
   "execution_count": 31,
   "id": "c56fc784",
   "metadata": {},
   "outputs": [
    {
     "data": {
      "text/plain": [
       "3.1415929203539825"
      ]
     },
     "execution_count": 31,
     "metadata": {},
     "output_type": "execute_result"
    }
   ],
   "source": [
    "close_to_pi = 355/113\n",
    "close_to_pi"
   ]
  },
  {
   "cell_type": "markdown",
   "id": "5239a476",
   "metadata": {},
   "source": [
    "Another common pattern is that a series of lines in a single cell will build up a complex computation in stages, naming the intermediate results."
   ]
  },
  {
   "cell_type": "code",
   "execution_count": 33,
   "id": "a4f407f9",
   "metadata": {},
   "outputs": [
    {
     "data": {
      "text/plain": [
       "38400"
      ]
     },
     "execution_count": 33,
     "metadata": {},
     "output_type": "execute_result"
    }
   ],
   "source": [
    "semimonthly_salary = 1600\n",
    "monthly_salary = 2 * semimonthly_salary\n",
    "number_of_months_in_a_year = 12\n",
    "yearly_salary = number_of_months_in_a_year * monthly_salary\n",
    "yearly_salary"
   ]
  },
  {
   "cell_type": "markdown",
   "id": "b6a1d29f",
   "metadata": {},
   "source": [
    "Names in Python can have letters (upper- and lower-case letters are both okay and count as different letters), underscores, and numbers.  The first character can't be a number (otherwise a name might look like a number).  And names can't contain spaces, since spaces are used to separate pieces of code from each other.\n",
    "\n",
    "Other than those rules, what you name something doesn't matter *to Python*.  For example, this cell does the same thing as the above cell, except everything has a different name:"
   ]
  },
  {
   "cell_type": "code",
   "execution_count": 35,
   "id": "0c55cf33",
   "metadata": {},
   "outputs": [
    {
     "data": {
      "text/plain": [
       "38400"
      ]
     },
     "execution_count": 35,
     "metadata": {},
     "output_type": "execute_result"
    }
   ],
   "source": [
    "a = 1600 # this is a semimonthly salary\n",
    "b = 2 * a # this will mult. by two to turn it to monthly salary\n",
    "c = 12   # this is just saying that c is equals to 12 months in a year\n",
    "d = c * b # this turn the salary into a yearly salary\n",
    "d         # this one this display the yearly salary"
   ]
  },
  {
   "cell_type": "markdown",
   "id": "ebe4a262",
   "metadata": {},
   "source": [
    "**However**, names are very important for making your code *readable* to yourself and others.  The cell above is shorter, but it's totally useless without an explanation of what it does."
   ]
  },
  {
   "cell_type": "markdown",
   "id": "d3afd77d",
   "metadata": {},
   "source": [
    "## 3.1. Checking Your Code\n",
    "Now that you know how to name things, you can start using the built-in *tests* to check whether your work is correct. Sometimes, there are multiple tests for a single question, and passing all of them is required to receive credit for the question. Please don't change the contents of the test cells. \n",
    "\n",
    "Go ahead and attempt Question 3.1.2. Running the cell directly after it will test whether you have assigned `seconds_in_a_decade` correctly in Question 3.1.2. If you haven't, this test will tell you the correct answer. Resist the urge to just copy it, and instead try to adjust your expression. (Sometimes the tests will give hints about what went wrong...)"
   ]
  },
  {
   "cell_type": "markdown",
   "id": "8cabcd83",
   "metadata": {},
   "source": [
    "**Question 3.1.2.** Assign the name `seconds_in_a_decade` to the number of seconds between midnight January 1, 2010 and midnight January 1, 2020. Note that there are two leap years in this span of a decade. A non-leap year has 365 days and a leap year has 366 days.\n",
    "\n",
    "*Hint:* If you're stuck, the next section shows you how to get hints.\n"
   ]
  },
  {
   "cell_type": "code",
   "execution_count": 36,
   "id": "63e5961d",
   "metadata": {
    "deletable": false,
    "tags": []
   },
   "outputs": [
    {
     "data": {
      "text/plain": [
       "315532800"
      ]
     },
     "execution_count": 36,
     "metadata": {},
     "output_type": "execute_result"
    }
   ],
   "source": [
    "# Change the next line \n",
    "# so that it computes the number of seconds in a decade \n",
    "# and assigns that number the name, seconds_in_a_decade.\n",
    "\n",
    "seconds_in_a_decade = (365*8 + 366*2)*24*60*60\n",
    "\n",
    "# We've put this line in this cell \n",
    "# so that it will print the value you've given to seconds_in_a_decade when you run it.  \n",
    "# You don't need to change this.\n",
    "seconds_in_a_decade"
   ]
  },
  {
   "cell_type": "code",
   "execution_count": 37,
   "id": "e8e7a918",
   "metadata": {
    "deletable": false,
    "editable": false
   },
   "outputs": [
    {
     "data": {
      "text/html": [
       "<p><strong><pre style='display: inline;'>q3_1_2</pre></strong> passed! 🌈</p>"
      ],
      "text/plain": [
       "q3_1_2 results: All test cases passed!"
      ]
     },
     "execution_count": 37,
     "metadata": {},
     "output_type": "execute_result"
    }
   ],
   "source": [
    "grader.check(\"q3_1_2\")"
   ]
  },
  {
   "cell_type": "markdown",
   "id": "5770ee1b",
   "metadata": {},
   "source": [
    "# 3.2. Comments\n",
    "You may have noticed these lines in the cell in which you answered Question 3.2:\n",
    "\n",
    "    # Change the next line \n",
    "    # so that it computes the number of seconds in a decade \n",
    "    # and assigns that number the name, seconds_in_a_decade.\n",
    "    \n",
    "This is called a *comment*. It doesn't make anything happen in Python; Python ignores anything on a line after a `#`.  Instead, it's there to communicate something about the code to you, the human reader. Comments are extremely useful. \n",
    "\n",
    "<img src=\"http://imgs.xkcd.com/comics/future_self.png\">\n",
    "Source: http://imgs.xkcd.com/comics/future_self.png"
   ]
  },
  {
   "cell_type": "markdown",
   "id": "e4d39ae0",
   "metadata": {},
   "source": [
    "## 3.3. Application: A Physics Experiment\n",
    "\n",
    "On the Apollo 15 mission to the Moon, astronaut David Scott famously replicated Galileo's physics experiment in which he showed that gravity accelerates objects of different mass at the same rate. Because there is no air resistance for a falling object on the surface of the Moon, even two objects with very different masses and densities should fall at the same rate. David Scott compared a feather and a hammer.\n",
    "\n",
    "You can run the following cell to watch a video of the experiment."
   ]
  },
  {
   "cell_type": "code",
   "execution_count": 42,
   "id": "1f9872ff",
   "metadata": {},
   "outputs": [
    {
     "data": {
      "image/jpeg": "[encoded data removed]",
      "text/html": [
       "\n",
       "        <iframe\n",
       "            width=\"400\"\n",
       "            height=\"300\"\n",
       "            src=\"https://www.youtube.com/embed/U5Md6S9jovk\"\n",
       "            frameborder=\"0\"\n",
       "            allowfullscreen\n",
       "            \n",
       "        ></iframe>\n",
       "        "
      ],
      "text/plain": [
       "<IPython.lib.display.YouTubeVideo at 0x7d35d26ecb50>"
      ]
     },
     "execution_count": 42,
     "metadata": {},
     "output_type": "execute_result"
    }
   ],
   "source": [
    "from IPython.display import YouTubeVideo\n",
    "# The original URL is: \n",
    "# https://www.youtube.com/watch?v=U7db6ZeLR5s\n",
    "\n",
    "YouTubeVideo(\"U5Md6S9jovk\")"
   ]
  },
  {
   "cell_type": "markdown",
   "id": "9ddc3662",
   "metadata": {},
   "source": [
    "Here's the transcript of the video:\n",
    "\n",
    "**167:22:06 Scott**: Well, in my left hand, I have a feather; in my right hand, a hammer. And I guess one of the reasons we got here today was because of a gentleman named Galileo, a long time ago, who made a rather significant discovery about falling objects in gravity fields. And we thought where would be a better place to confirm his findings than on the Moon. And so we thought we'd try it here for you. The feather happens to be, appropriately, a falcon feather for our Falcon. And I'll drop the two of them here and, hopefully, they'll hit the ground at the same time. \n",
    "\n",
    "**167:22:43 Scott**: How about that!\n",
    "\n",
    "**167:22:45 Allen**: How about that! (Applause in Houston)\n",
    "\n",
    "**167:22:46 Scott**: Which proves that Mr. Galileo was correct in his findings."
   ]
  },
  {
   "cell_type": "markdown",
   "id": "fc03d5ca",
   "metadata": {},
   "source": [
    "**Newton's Law.** Using this footage, we can also attempt to confirm another famous bit of physics: Newton's law of universal gravitation. Newton's laws predict that any object dropped near the surface of the Moon should fall\n",
    "\n",
    "$$\\frac{1}{2} G \\frac{M}{R^2} t^2 \\text{ meters}$$\n",
    "\n",
    "after $t$ seconds, where $G$ is a universal constant, $M$ is the moon's mass in kilograms, and $R$ is the moon's radius in meters.  So if we know $G$, $M$, and $R$, then Newton's laws let us predict how far an object will fall over any amount of time.\n",
    "\n",
    "To verify the accuracy of this law, we will calculate the difference between the predicted distance the hammer drops and the actual distance.  (If they are different, it might be because Newton's laws are wrong, or because our measurements are imprecise, or because there are other factors affecting the hammer for which we haven't accounted.)\n",
    "\n",
    "Someone studied the video and estimated that the hammer was dropped 113 cm from the surface. Counting frames in the video, the hammer falls for 1.2 seconds (36 frames)."
   ]
  },
  {
   "cell_type": "markdown",
   "id": "afbb647c",
   "metadata": {},
   "source": [
    "**Question 3.3.1.** Complete the code in the next cell to fill in the data from the experiment.\n",
    "\n",
    "*Hint:* No computation required; just fill in data from the paragraph above.\n"
   ]
  },
  {
   "cell_type": "code",
   "execution_count": 43,
   "id": "582b21d6",
   "metadata": {
    "deletable": false,
    "tags": []
   },
   "outputs": [],
   "source": [
    "# t, the duration of the fall in the experiment, in seconds.\n",
    "# Fill this in.\n",
    "time = 1.2\n",
    "\n",
    "# The estimated distance the hammer actually fell, in meters.\n",
    "# Fill this in.\n",
    "estimated_distance_m = 1.13"
   ]
  },
  {
   "cell_type": "code",
   "execution_count": 44,
   "id": "7d44f2df",
   "metadata": {
    "deletable": false,
    "editable": false
   },
   "outputs": [
    {
     "data": {
      "text/html": [
       "<p><strong><pre style='display: inline;'>q3_3_1</pre></strong> passed! 🙌</p>"
      ],
      "text/plain": [
       "q3_3_1 results: All test cases passed!"
      ]
     },
     "execution_count": 44,
     "metadata": {},
     "output_type": "execute_result"
    }
   ],
   "source": [
    "grader.check(\"q3_3_1\")"
   ]
  },
  {
   "cell_type": "markdown",
   "id": "243c928b",
   "metadata": {},
   "source": [
    "**Question 3.3.2.** Now, complete the code in the next cell to compute the difference between the predicted and estimated distances (in meters) that the hammer fell in this experiment.\n",
    "\n",
    "This just means translating the formula above ($\\frac{1}{2}G\\frac{M}{R^2}t^2$) into Python code.  You'll have to replace each variable in the math formula with the name we gave that number in Python code.\n",
    "\n",
    "*Hint:* Try to use variables you've already defined in question 3.3.1\n"
   ]
  },
  {
   "cell_type": "code",
   "execution_count": 45,
   "id": "5c3f6000",
   "metadata": {
    "deletable": false,
    "tags": []
   },
   "outputs": [
    {
     "data": {
      "text/plain": [
       "0.040223694659304865"
      ]
     },
     "execution_count": 45,
     "metadata": {},
     "output_type": "execute_result"
    }
   ],
   "source": [
    "# First, we've written down the values of the 3 universal constants \n",
    "# that show up in Newton's formula.\n",
    "\n",
    "# G, the universal constant measuring the strength of gravity.\n",
    "gravity_constant = 6.674 * 10**-11\n",
    "\n",
    "# M, the moon's mass, in kilograms.\n",
    "moon_mass_kg = 7.34767309 * 10**22\n",
    "\n",
    "# R, the radius of the moon, in meters.\n",
    "moon_radius_m = 1.737 * 10**6\n",
    "\n",
    "# The distance the hammer should have fallen \n",
    "# over the duration of the fall, in meters, \n",
    "# according to Newton's law of gravity.  \n",
    "# The text above describes the formula\n",
    "# for this distance given by Newton's law.\n",
    "# **YOU FILL THIS PART IN.**\n",
    "predicted_distance_m = (1/2)*gravity_constant*(moon_mass_kg/moon_radius_m**2)*(time**2)\n",
    "\n",
    "# Here we've computed the difference \n",
    "# between the predicted fall distance and the distance we actually measured.\n",
    "# If you've filled in the above code, this should just work.\n",
    "difference = predicted_distance_m - estimated_distance_m\n",
    "difference"
   ]
  },
  {
   "cell_type": "code",
   "execution_count": 46,
   "id": "3378165c",
   "metadata": {
    "deletable": false,
    "editable": false
   },
   "outputs": [
    {
     "data": {
      "text/html": [
       "<p><strong><pre style='display: inline;'>q3_3_2</pre></strong> passed! 🎉</p>"
      ],
      "text/plain": [
       "q3_3_2 results: All test cases passed!"
      ]
     },
     "execution_count": 46,
     "metadata": {},
     "output_type": "execute_result"
    }
   ],
   "source": [
    "grader.check(\"q3_3_2\")"
   ]
  },
  {
   "cell_type": "markdown",
   "id": "b404b4e7",
   "metadata": {},
   "source": [
    "## 4. Calling Functions\n",
    "\n",
    "The most common way to combine or manipulate values in Python is by calling functions. Python comes with many built-in functions that perform common operations.\n",
    "\n",
    "For example, the `abs` function takes a single number as its argument and returns the absolute value of that number. Run the next two cells and see if you understand the output."
   ]
  },
  {
   "cell_type": "code",
   "execution_count": 47,
   "id": "505f304c",
   "metadata": {},
   "outputs": [
    {
     "data": {
      "text/plain": [
       "5"
      ]
     },
     "execution_count": 47,
     "metadata": {},
     "output_type": "execute_result"
    }
   ],
   "source": [
    "abs(5)"
   ]
  },
  {
   "cell_type": "code",
   "execution_count": 48,
   "id": "af52e14e",
   "metadata": {},
   "outputs": [
    {
     "data": {
      "text/plain": [
       "5"
      ]
     },
     "execution_count": 48,
     "metadata": {},
     "output_type": "execute_result"
    }
   ],
   "source": [
    "abs(-5)"
   ]
  },
  {
   "cell_type": "markdown",
   "id": "8d00ea68",
   "metadata": {},
   "source": [
    "## 4.1. Application: Computing Walking Distances\n",
    "Chunhua is on the corner of 7th Avenue and 42nd Street in Midtown Manhattan, and she wants to know far she'd have to walk to get to Gramercy School on the corner of 10th Avenue and 34th Street.\n",
    "\n",
    "She can't cut across blocks diagonally, since there are buildings in the way.  She has to walk along the sidewalks.  Using the map below, she sees she'd have to walk 3 avenues (long blocks) and 8 streets (short blocks).  In terms of the given numbers, she computed 3 as the difference between 7 and 10, *in absolute value*, and 8 similarly.  \n",
    "\n",
    "Chunhua also knows that blocks in Manhattan are all about 80m by 274m (avenues are farther apart than streets).  So in total, she'd have to walk $(80 \\times |42 - 34| + 274 \\times |7 - 10|)$ meters to get to the park.\n",
    "\n",
    "<img src=\"map.jpg\"/>\n",
    "\n",
    "**Question 4.1.1.** Fill in the line `num_avenues_away = ...` in the next cell so that the cell calculates the distance Chunhua must walk and gives it the name `manhattan_distance`.  Everything else has been filled in for you.  **Use the `abs` function.** Also, be sure to run the test cell afterward to test your code.\n"
   ]
  },
  {
   "cell_type": "code",
   "execution_count": 49,
   "id": "e3a95867",
   "metadata": {
    "deletable": false,
    "tags": []
   },
   "outputs": [
    {
     "data": {
      "text/plain": [
       "1462"
      ]
     },
     "execution_count": 49,
     "metadata": {},
     "output_type": "execute_result"
    }
   ],
   "source": [
    "# Here's the number of streets away:\n",
    "num_streets_away = abs(42-34)\n",
    "\n",
    "# Compute the number of avenues away in a similar way:\n",
    "num_avenues_away = abs(10-7)\n",
    "\n",
    "street_length_m = 80\n",
    "avenue_length_m = 274\n",
    "\n",
    "# Now we compute the total distance Chunhua must walk.\n",
    "manhattan_distance = street_length_m*num_streets_away + avenue_length_m*num_avenues_away\n",
    "\n",
    "# We've included this line so that you see the distance you've computed \n",
    "# when you run this cell.  \n",
    "# You don't need to change it, but you can if you want.\n",
    "manhattan_distance"
   ]
  },
  {
   "cell_type": "code",
   "execution_count": null,
   "id": "526fe97b",
   "metadata": {
    "deletable": false,
    "editable": false
   },
   "outputs": [],
   "source": [
    "grader.check(\"q4_1_1\")"
   ]
  },
  {
   "cell_type": "markdown",
   "id": "0578c27c",
   "metadata": {},
   "source": [
    "##### Multiple arguments\n",
    "Some functions take multiple arguments, separated by commas. For example, the built-in `max` function returns the maximum argument passed to it."
   ]
  },
  {
   "cell_type": "code",
   "execution_count": null,
   "id": "18aafa15",
   "metadata": {},
   "outputs": [],
   "source": [
    "max(2, -3, 4, -5)"
   ]
  },
  {
   "cell_type": "markdown",
   "id": "9fc2ddb7",
   "metadata": {},
   "source": [
    "# 5. Understanding Nested Expressions\n",
    "Function calls and arithmetic expressions can themselves contain expressions.  You saw an example in the last question:\n",
    "\n",
    "    abs(42-34)\n",
    "\n",
    "has 2 number expressions in a subtraction expression in a function call expression.  And you probably wrote something like `abs(7-10)` to compute `num_avenues_away`.\n",
    "\n",
    "Nested expressions can turn into complicated-looking code. However, the way in which complicated expressions break down is very regular.\n",
    "\n",
    "Suppose we are interested in lengths of cats that are very unusual.  We'll say that a length is unusual to the extent that it's far away on the number line from the average cat length.  [An estimate](http://press.endocrine.org/doi/full/10.1210/jcem.86.9.7875?ck=nck&) of the average cat length (averaging, we hope, over all cats on Earth today) is 18.2 inches.\n",
    "\n",
    "So if Ravioli is 21.7 inches long, then her length is $|21.7 - 18.2|$, or $3.5$, inches away from the average.  Here's a picture of that:\n",
    "\n",
    "<img src=\"cat_lengths.png\">\n",
    "\n",
    "And here's how we'd write that in one line of Python code:\n",
    "\n",
    "**Dataset Details:**\n",
    "- Origin: The source for average cat length is [Wikipedia](https://en.wikipedia.org/wiki/Cat#:~:text=The%20domestic%20cat%20has%20a,(9%20and%2011%20lb).). The listed lengths for cats are not real and may not be plausible (but the names are of real cats!)\n",
    "- Extra Context: None."
   ]
  },
  {
   "cell_type": "code",
   "execution_count": 50,
   "id": "04863dea",
   "metadata": {},
   "outputs": [
    {
     "data": {
      "text/plain": [
       "3.5"
      ]
     },
     "execution_count": 50,
     "metadata": {},
     "output_type": "execute_result"
    }
   ],
   "source": [
    "abs(21.7 - 18.2)"
   ]
  },
  {
   "cell_type": "markdown",
   "id": "dbe08037",
   "metadata": {},
   "source": [
    "What's going on here?  `abs` takes just one argument, so the stuff inside the parentheses is all part of that *single argument*.  Specifically, the argument is the value of the expression `21.7 - 18.2`.  The value of that expression is `3.5`.  That value is the argument to `abs`.  The absolute value of that is `3.5`, so `3.5` is the value of the full expression `abs(21.7 - 18.2)`.\n",
    "\n",
    "Picture simplifying the expression in several steps:\n",
    "\n",
    "1. `abs(21.7 - 18.2)`\n",
    "2. `abs(3.5)`\n",
    "3. `3.5`\n",
    "\n",
    "In fact, that's basically what Python does to compute the value of the expression."
   ]
  },
  {
   "cell_type": "markdown",
   "id": "0ed37f6a",
   "metadata": {},
   "source": [
    "**Question 5.1.** Say that Genghis's length is 16.7 inches.  In the next cell, use `abs` to compute the absolute value of the difference between Genghis's length and the average cat length.  Give that value the name `genghis_distance_from_average_in`.\n"
   ]
  },
  {
   "cell_type": "code",
   "execution_count": 51,
   "id": "68a22815",
   "metadata": {
    "deletable": false,
    "tags": []
   },
   "outputs": [
    {
     "data": {
      "text/plain": [
       "1.5"
      ]
     },
     "execution_count": 51,
     "metadata": {},
     "output_type": "execute_result"
    }
   ],
   "source": [
    "# Replace the ... with an expression \n",
    "# to compute the absolute value \n",
    "# of the difference between Genghis's length (16.7 in) and the average cat length.\n",
    "genghis_distance_from_average_in = abs(16.7-18.2)\n",
    "\n",
    "# Again, we've written this here \n",
    "# so that the distance you compute will get printed \n",
    "# when you run this cell.\n",
    "genghis_distance_from_average_in"
   ]
  },
  {
   "cell_type": "code",
   "execution_count": 52,
   "id": "68090766",
   "metadata": {
    "deletable": false,
    "editable": false
   },
   "outputs": [
    {
     "data": {
      "text/html": [
       "<p><strong><pre style='display: inline;'>q51</pre></strong> passed! 🎉</p>"
      ],
      "text/plain": [
       "q51 results: All test cases passed!"
      ]
     },
     "execution_count": 52,
     "metadata": {},
     "output_type": "execute_result"
    }
   ],
   "source": [
    "grader.check(\"q51\")"
   ]
  },
  {
   "cell_type": "markdown",
   "id": "59694293",
   "metadata": {},
   "source": [
    "## 5.1. More Nesting\n",
    "Now say that we want to compute the more unusual of the two cat lengths.  We'll use the function `max`, which (again) takes two numbers as arguments and returns the larger of the two arguments.  Combining that with the `abs` function, we can compute the larger distance from average among the two length:"
   ]
  },
  {
   "cell_type": "code",
   "execution_count": 53,
   "id": "8cfd3d20",
   "metadata": {},
   "outputs": [
    {
     "name": "stdout",
     "output_type": "stream",
     "text": [
      "The larger distance from the average length among these two cats is 3.5 inches.\n"
     ]
    }
   ],
   "source": [
    "# Just read and run this cell.\n",
    "\n",
    "ravioli_length_in = 21.7\n",
    "genghis_length_in = 16.7\n",
    "average_cat_length = 18.2\n",
    "\n",
    "# The larger distance from the average cat length, among the two length:\n",
    "larger_distance_in = max(abs(ravioli_length_in - average_cat_length), abs(genghis_length_in - average_cat_length))\n",
    "\n",
    "# Print out our results in a nice readable format:\n",
    "print(\"The larger distance from the average length among these two cats is\", larger_distance_in, \"inches.\")"
   ]
  },
  {
   "cell_type": "markdown",
   "id": "83da165f",
   "metadata": {},
   "source": [
    "The line where `larger_distance_in` is computed looks complicated, but we can break it down into simpler components just like we did before.\n",
    "\n",
    "The basic recipe is to repeatedly simplify small parts of the expression:\n",
    "* **Basic expressions:** Start with expressions whose values we know, like names or numbers.\n",
    "    - Examples: `genghis_length_in` or `16.7`.\n",
    "* **Find the next simplest group of expressions:** Look for basic expressions that are directly connected to each other. This can be by arithmetic or as arguments to a function call. \n",
    "    - Example: `genghis_length_in - average_cat_length`.\n",
    "* **Evaluate that group:** Evaluate the arithmetic expression or function call. Use the value computed to replace the group of expressions.  \n",
    "    - Example: `genghis_length_in - average_cat_length` becomes `-1.3`.\n",
    "* **Repeat:** Continue this process, using the value of the previously-evaluated expression as a new basic expression. Stop when we've evaluated the entire expression.\n",
    "    - Example: `abs(-1.3)` becomes `1.3`, and `max(3.5, 1.3)` becomes `3.5`.\n",
    "\n",
    "You can run the next cell to see a slideshow of that process."
   ]
  },
  {
   "cell_type": "code",
   "execution_count": 54,
   "id": "76c44ae5",
   "metadata": {},
   "outputs": [
    {
     "data": {
      "text/html": [
       "\n",
       "        <iframe\n",
       "            width=\"800\"\n",
       "            height=\"600\"\n",
       "            src=\"https://docs.google.com/presentation/d/1g2J9ZkB2Tr_jUw45kiAgOPeC8QAE9thHFCEhqm6mHnM/embed?start=false&loop=false&delayms=3000\"\n",
       "            frameborder=\"0\"\n",
       "            allowfullscreen\n",
       "            \n",
       "        ></iframe>\n",
       "        "
      ],
      "text/plain": [
       "<IPython.lib.display.IFrame at 0x7d35d282b2b0>"
      ]
     },
     "execution_count": 54,
     "metadata": {},
     "output_type": "execute_result"
    }
   ],
   "source": [
    "from IPython.display import IFrame\n",
    "IFrame('https://docs.google.com/presentation/d/1g2J9ZkB2Tr_jUw45kiAgOPeC8QAE9thHFCEhqm6mHnM/embed?start=false&loop=false&delayms=3000', 800, 600)"
   ]
  },
  {
   "cell_type": "markdown",
   "id": "7c082889",
   "metadata": {},
   "source": [
    "Ok, your turn. \n",
    "\n",
    "**Question 5.1.1.** Given the lengths of Yanay's cats Hummus, Gatkes, and Zeepty, write an expression that computes the smallest difference between any of the three lengths. Your expression shouldn't have any numbers in it, only function calls and the names `hummus`, `gatkes`, and `zeepty`. Give the value of your expression the name `min_length_difference`.\n"
   ]
  },
  {
   "cell_type": "code",
   "execution_count": 57,
   "id": "6df3b48b",
   "metadata": {
    "deletable": false,
    "tags": []
   },
   "outputs": [
    {
     "data": {
      "text/plain": [
       "3.8999999999999986"
      ]
     },
     "execution_count": 57,
     "metadata": {},
     "output_type": "execute_result"
    }
   ],
   "source": [
    "# The three cats' lengths, in meters:\n",
    "hummus =  24.5 # Hummus is 24.5 inches long\n",
    "gatkes = 19.7 # Gatkes is 19.7 inches long\n",
    "zeepty = 15.8 # Zeepty is 15.8 inches long\n",
    "             \n",
    "# We'd like to look at all 3 pairs of lengths, \n",
    "# compute the absolute difference between each pair, \n",
    "# and then find the smallest of those 3 absolute differences.  \n",
    "# This is left to you!  \n",
    "# If you're stuck, try computing the value for each step of the process \n",
    "# (like the difference between Hummus's length and Gatkes's length) \n",
    "# on a separate line and giving it a name (like hummus_gatkes_length_diff)\n",
    "min_length_difference = min(abs(hummus - gatkes), abs(hummus - zeepty), abs(gatkes - zeepty))\n",
    "min_length_difference"
   ]
  },
  {
   "cell_type": "code",
   "execution_count": 58,
   "id": "4ce5d29b",
   "metadata": {
    "deletable": false,
    "editable": false
   },
   "outputs": [
    {
     "data": {
      "text/html": [
       "<p><strong><pre style='display: inline;'>q5_1_1</pre></strong> passed! 🚀</p>"
      ],
      "text/plain": [
       "q5_1_1 results: All test cases passed!"
      ]
     },
     "execution_count": 58,
     "metadata": {},
     "output_type": "execute_result"
    }
   ],
   "source": [
    "grader.check(\"q5_1_1\")"
   ]
  },
  {
   "cell_type": "markdown",
   "id": "a013749f",
   "metadata": {},
   "source": [
    "You're done with Lab 1! \n",
    "\n",
    "**Important submission steps:** \n",
    "1. Run the tests and verify that they all pass.\n",
    "2. Choose **Save Notebook** from the **File** menu, then **run the final cell**. \n",
    "3. Click the link to download the zip file.\n",
    "4. Then submit the zip file to the corresponding assignment according to your instructor's directions. \n",
    "\n",
    "**It is your responsibility to make sure your work is saved before running the last cell.**\n",
    "\n",
    "\n",
    "\n",
    "\n",
    "\n",
    "Harley wanted to congratulate you and welcome you to Data 8!\n",
    "\n",
    "<img src=\"harley.png\" alt=\"drawing\" width=\"300\"/>\n"
   ]
  },
  {
   "cell_type": "markdown",
   "id": "6f2a303e",
   "metadata": {
    "deletable": false,
    "editable": false
   },
   "source": [
    "## Submission\n",
    "\n",
    "Make sure you have run all cells in your notebook in order before running the cell below, so that all images/graphs appear in the output. The cell below will generate a zip file for you to submit. **Please save before exporting!**"
   ]
  },
  {
   "cell_type": "code",
   "execution_count": 59,
   "id": "9f711ef8",
   "metadata": {
    "deletable": false,
    "editable": false
   },
   "outputs": [
    {
     "name": "stdout",
     "output_type": "stream",
     "text": [
      "Running your submission against local test cases...\n",
      "\n",
      "\n",
      "Your submission received the following results when run against available test cases:\n",
      "\n",
      "    q3_1_2 results: All test cases passed!\n",
      "\n",
      "    q3_3_1 results: All test cases passed!\n",
      "\n",
      "    q3_3_2 results: All test cases passed!\n",
      "\n",
      "    q4_1_1 results: All test cases passed!\n",
      "\n",
      "    q51 results: All test cases passed!\n",
      "\n",
      "    q5_1_1 results: All test cases passed!\n"
     ]
    },
    {
     "data": {
      "text/html": [
       "\n",
       "                    <p>\n",
       "                        Your submission has been exported. Click\n",
       "                        <a href=\"lab01_2024_07_19T02_48_09_098702.zip\" download=\"lab01_2024_07_19T02_48_09_098702.zip\" target=\"_blank\">here</a> to download\n",
       "                        the zip file.\n",
       "                    </p>\n",
       "                "
      ],
      "text/plain": [
       "<IPython.core.display.HTML object>"
      ]
     },
     "metadata": {},
     "output_type": "display_data"
    }
   ],
   "source": [
    "# Save your notebook first, then run this cell to export your submission.\n",
    "grader.export(pdf=False, run_tests=True)"
   ]
  },
  {
   "cell_type": "markdown",
   "id": "c0213747",
   "metadata": {},
   "source": [
    " "
   ]
  }
 ],
 "metadata": {
  "kernelspec": {
   "display_name": "Python 3 (ipykernel)",
   "language": "python",
   "name": "python3"
  },
  "language_info": {
   "codemirror_mode": {
    "name": "ipython",
    "version": 3
   },
   "file_extension": ".py",
   "mimetype": "text/x-python",
   "name": "python",
   "nbconvert_exporter": "python",
   "pygments_lexer": "ipython3",
   "version": "3.10.11"
  },
  "otter": {
   "OK_FORMAT": true,
   "tests": {
    "q3_1_2": {
     "name": "q3_1_2",
     "points": null,
     "suites": [
      {
       "cases": [
        {
         "code": ">>> # It looks like you didn't give anything the name\n>>> # seconds_in_a_decade.  Maybe there's a typo, or maybe you\n>>> # just need to run the cell below Question 3.2 where you defined\n>>> # seconds_in_a_decade.  (Click that cell and then click the \"run\n>>> # cell\" button in the menu bar above.)\n>>> 'seconds_in_a_decade' in vars()\nTrue",
         "hidden": false,
         "locked": false
        },
        {
         "code": ">>> # It looks like you didn't change the cell to define\n>>> # seconds_in_a_decade appropriately.  It should be a number,\n>>> # computed using Python's arithmetic.  For example, this is\n>>> # almost right:\n>>> #   seconds_in_a_decade = 10*365*24*60*60\n>>> seconds_in_a_decade != ...\nTrue",
         "hidden": false,
         "locked": false
        },
        {
         "code": ">>> # It looks like you didn't account for leap years.\n>>> # There were 2 leap years and 8 non-leap years in this period.\n>>> # Leap years have 366 days instead of 365.\n>>> seconds_in_a_decade != 315360000\nTrue",
         "hidden": false,
         "locked": false
        },
        {
         "code": ">>> seconds_in_a_decade == 315532800\nTrue",
         "hidden": false,
         "locked": false
        }
       ],
       "scored": true,
       "setup": "",
       "teardown": "",
       "type": "doctest"
      }
     ]
    },
    "q3_3_1": {
     "name": "q3_3_1",
     "points": null,
     "suites": [
      {
       "cases": [
        {
         "code": ">>> # Fill in the row\n>>> #   time = ...\n>>> # with something like:\n>>> #   time = 4.567\n>>> # (except with the right number).\n>>> time != ...\nTrue",
         "hidden": false,
         "locked": false
        },
        {
         "code": ">>> # Read the text above the question to see what\n>>> # time should be. \n>>> round(time, 5)\n1.2",
         "hidden": false,
         "locked": false
        },
        {
         "code": ">>> # Fill in the row\n>>> #   estimated_distance_m = ...\n>>> # with something like:\n>>> #   estimated_distance_m = 4.567\n>>> # (except with the right number). \n>>> estimated_distance_m != ...\nTrue",
         "hidden": false,
         "locked": false
        },
        {
         "code": ">>> # Note that the units are meters, but the text used\n>>> # centimeters.\n>>> estimated_distance_m != 113\nTrue",
         "hidden": false,
         "locked": false
        },
        {
         "code": ">>> # Read the text above the question to see what\n>>> # estimated_distance_m should be.\n>>> round(estimated_distance_m, 5)\n1.13",
         "hidden": false,
         "locked": false
        }
       ],
       "scored": true,
       "setup": "",
       "teardown": "",
       "type": "doctest"
      }
     ]
    },
    "q3_3_2": {
     "name": "q3_3_2",
     "points": null,
     "suites": [
      {
       "cases": [
        {
         "code": ">>> # Fill in the line that currently says\n>>> #   predicted_distance_m = ...\n>>> # in the cell above.\n>>> predicted_distance_m != ...\nTrue",
         "hidden": false,
         "locked": false
        },
        {
         "code": ">>> # Compute predicted_distance_m using the formula in the text\n>>> # above.  Hint: it should start with something like this:\n>>> #   predicted_distance_m = (1/2) * gravity_constant ...\n>>> round(predicted_distance_m, 5)\n1.17022",
         "hidden": false,
         "locked": false
        },
        {
         "code": ">>> round(difference, 5)\n0.04022",
         "hidden": false,
         "locked": false
        }
       ],
       "scored": true,
       "setup": "",
       "teardown": "",
       "type": "doctest"
      }
     ]
    },
    "q4_1_1": {
     "name": "q4_1_1",
     "points": null,
     "suites": [
      {
       "cases": [
        {
         "code": ">>> # Fill in the line\n>>> #   num_avenues_away = ...\n>>> # in the cell above. \n>>> num_avenues_away != ...\nTrue",
         "hidden": false,
         "locked": false
        },
        {
         "code": ">>> # Remember to compute the absolute value of 7-10.  Traveling \n>>> # \"-3 blocks\" doesn't really make sense!\n>>> num_avenues_away != -3\nTrue",
         "hidden": false,
         "locked": false
        },
        {
         "code": ">>> num_avenues_away\n3",
         "hidden": false,
         "locked": false
        },
        {
         "code": ">>> manhattan_distance\n1462",
         "hidden": false,
         "locked": false
        }
       ],
       "scored": true,
       "setup": "",
       "teardown": "",
       "type": "doctest"
      }
     ]
    },
    "q51": {
     "name": "q51",
     "points": null,
     "suites": [
      {
       "cases": [
        {
         "code": ">>> round(genghis_distance_from_average_in, 3)\n1.5",
         "hidden": false,
         "locked": false
        }
       ],
       "scored": true,
       "setup": "",
       "teardown": "",
       "type": "doctest"
      }
     ]
    },
    "q5_1_1": {
     "name": "q5_1_1",
     "points": null,
     "suites": [
      {
       "cases": [
        {
         "code": ">>> round(min_length_difference, 5)\n3.9",
         "hidden": false,
         "locked": false
        }
       ],
       "scored": true,
       "setup": "",
       "teardown": "",
       "type": "doctest"
      }
     ]
    }
   }
  }
 },
 "nbformat": 4,
 "nbformat_minor": 5
}
